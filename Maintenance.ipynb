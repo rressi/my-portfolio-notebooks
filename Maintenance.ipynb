{
 "cells": [
  {
   "cell_type": "code",
   "execution_count": 1,
   "id": "46306798-e573-40a3-bd5c-e33414fe714c",
   "metadata": {},
   "outputs": [
    {
     "name": "stderr",
     "output_type": "stream",
     "text": [
      "\u001b[2mResolved \u001b[1m115 packages\u001b[0m \u001b[2min 613ms\u001b[0m\u001b[0m\n",
      "\u001b[36m\u001b[1mDownloading\u001b[0m\u001b[39m fonttools \u001b[2m(2.7MiB)\u001b[0m\n",
      "\u001b[36m\u001b[1mDownloading\u001b[0m\u001b[39m debugpy \u001b[2m(2.4MiB)\u001b[0m\n",
      " \u001b[32m\u001b[1mDownloading\u001b[0m\u001b[39m debugpy\n",
      " \u001b[32m\u001b[1mDownloading\u001b[0m\u001b[39m fonttools\n",
      "\u001b[2mPrepared \u001b[1m5 packages\u001b[0m \u001b[2min 227ms\u001b[0m\u001b[0m\n",
      "\u001b[2mUninstalled \u001b[1m5 packages\u001b[0m \u001b[2min 77ms\u001b[0m\u001b[0m\n",
      "\u001b[2mInstalled \u001b[1m5 packages\u001b[0m \u001b[2min 38ms\u001b[0m\u001b[0m\n",
      " \u001b[31m-\u001b[39m \u001b[1mdebugpy\u001b[0m\u001b[2m==1.8.16\u001b[0m\n",
      " \u001b[32m+\u001b[39m \u001b[1mdebugpy\u001b[0m\u001b[2m==1.8.17\u001b[0m\n",
      " \u001b[31m-\u001b[39m \u001b[1mfonttools\u001b[0m\u001b[2m==4.59.2\u001b[0m\n",
      " \u001b[32m+\u001b[39m \u001b[1mfonttools\u001b[0m\u001b[2m==4.60.0\u001b[0m\n",
      " \u001b[31m-\u001b[39m \u001b[1mpsutil\u001b[0m\u001b[2m==7.0.0\u001b[0m\n",
      " \u001b[32m+\u001b[39m \u001b[1mpsutil\u001b[0m\u001b[2m==7.1.0\u001b[0m\n",
      " \u001b[31m-\u001b[39m \u001b[1mpyparsing\u001b[0m\u001b[2m==3.2.3\u001b[0m\n",
      " \u001b[32m+\u001b[39m \u001b[1mpyparsing\u001b[0m\u001b[2m==3.2.4\u001b[0m\n",
      " \u001b[31m-\u001b[39m \u001b[1myfinance\u001b[0m\u001b[2m==0.2.65\u001b[0m\n",
      " \u001b[32m+\u001b[39m \u001b[1myfinance\u001b[0m\u001b[2m==0.2.66\u001b[0m\n"
     ]
    }
   ],
   "source": [
    "# Update the virtual environment\n",
    "\n",
    "import os\n",
    "os.unlink(\"uv.lock\")\n",
    "\n",
    "import subprocess\n",
    "subprocess.run([\"uv\", \"sync\"]).check_returncode()\n"
   ]
  }
 ],
 "metadata": {
  "kernelspec": {
   "display_name": "portfolio",
   "language": "python",
   "name": "python3"
  },
  "language_info": {
   "codemirror_mode": {
    "name": "ipython",
    "version": 3
   },
   "file_extension": ".py",
   "mimetype": "text/x-python",
   "name": "python",
   "nbconvert_exporter": "python",
   "pygments_lexer": "ipython3",
   "version": "3.12.2"
  }
 },
 "nbformat": 4,
 "nbformat_minor": 5
}
