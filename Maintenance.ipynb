{
 "cells": [
  {
   "cell_type": "code",
   "execution_count": null,
   "id": "46306798-e573-40a3-bd5c-e33414fe714c",
   "metadata": {},
   "outputs": [
    {
     "ename": "",
     "evalue": "",
     "output_type": "error",
     "traceback": [
      "\u001b[1;31mRunning cells with 'Portfolio (3.12.2) (Python 3.12.2)' requires the ipykernel package.\n",
      "\u001b[1;31mInstall 'ipykernel' into the Python environment. \n",
      "\u001b[1;31mCommand: '/Users/riccardo/Documents/Code/Portfolio/.venv/bin/python -m pip install ipykernel -U --force-reinstall'"
     ]
    }
   ],
   "source": [
    "# Update the virtual environment\n",
    "\n",
    "import os\n",
    "os.unlink(\"uv.lock\")\n",
    "\n",
    "import subprocess\n",
    "subprocess.run([\"uv\", \"sync\"]).check_returncode()\n"
   ]
  }
 ],
 "metadata": {
  "kernelspec": {
   "display_name": "Portfolio (3.12.2)",
   "language": "python",
   "name": "python3"
  },
  "language_info": {
   "codemirror_mode": {
    "name": "ipython",
    "version": 3
   },
   "file_extension": ".py",
   "mimetype": "text/x-python",
   "name": "python",
   "nbconvert_exporter": "python",
   "pygments_lexer": "ipython3",
   "version": "3.12.2"
  }
 },
 "nbformat": 4,
 "nbformat_minor": 5
}
